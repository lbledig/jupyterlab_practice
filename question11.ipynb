{
 "cells": [
  {
   "cell_type": "markdown",
   "id": "f221ff48-467d-4f06-aa5f-1240c93faabe",
   "metadata": {},
   "source": [
    "## Assignment 7 - Lauren\n",
    "\n",
    "Notebook for assignment 7"
   ]
  },
  {
   "cell_type": "code",
   "execution_count": 2,
   "id": "dcf62b65-daea-4a4a-b59f-6bea28f32b90",
   "metadata": {},
   "outputs": [
    {
     "name": "stdout",
     "output_type": "stream",
     "text": [
      "5.0\n"
     ]
    },
    {
     "data": {
      "text/plain": [
       "<function __main__.compute_mean(values)>"
      ]
     },
     "execution_count": 2,
     "metadata": {},
     "output_type": "execute_result"
    }
   ],
   "source": [
    "import numpy as np\n",
    "\n",
    "def compute_mean(values):\n",
    "    mean_value = np.mean(values)\n",
    "    print(mean_value)\n",
    "\n",
    "compute_mean([2, 4, 6, 8])\n",
    "compute_mean"
   ]
  },
  {
   "cell_type": "markdown",
   "id": "1bc9b016-3f80-4104-93bf-64b35e3fd5c3",
   "metadata": {},
   "source": [
    "## Explanation of the Code\n",
    "This code defines a function `compute_mean` that calculates the mean (average) of a given list of numerical values using NumPy's `mean` function. The function is then called with the example list `[2, 4, 6, 8]`, and it prints the computed mean value, which is `5.0`.\n",
    "\n",
    "The mean is calculated using the formula:\n",
    "\\[ \\bar{x} = \\frac{x_1 + x_2 + \\dots + x_n}{n} \\]\n",
    "\n",
    "Alternatively, it can also be expressed as:\n",
    "\\[ \\bar{x} = \\frac{1}{n} \\sum_{i=1}^{n} x_i \\]"
   ]
  },
  {
   "cell_type": "code",
   "execution_count": null,
   "id": "fc3c9dff-e1f6-488b-b11d-b00fff89656d",
   "metadata": {},
   "outputs": [],
   "source": []
  }
 ],
 "metadata": {
  "kernelspec": {
   "display_name": "Python [conda env:miniconda3]",
   "language": "python",
   "name": "conda-env-miniconda3-py"
  },
  "language_info": {
   "codemirror_mode": {
    "name": "ipython",
    "version": 3
   },
   "file_extension": ".py",
   "mimetype": "text/x-python",
   "name": "python",
   "nbconvert_exporter": "python",
   "pygments_lexer": "ipython3",
   "version": "3.12.8"
  }
 },
 "nbformat": 4,
 "nbformat_minor": 5
}
